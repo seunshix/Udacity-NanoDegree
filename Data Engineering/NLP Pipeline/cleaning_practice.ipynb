{
 "cells": [
  {
   "cell_type": "markdown",
   "metadata": {},
   "source": [
    "# Cleaning Quiz: \n",
    "It's your turn! The [E.T. The Extra-terrestrial page](https://www.rottentomatoes.com/m/et_the_extraterrestrial) has a lot of information on this movie.\n",
    "\n",
    "In this activity, you're going to perform similar actions with BeautifulSoup to extract the following information from each actor or actress listing on the page:\n",
    "1. The actor/actress name - e.g. \"Henry Thomas\"\n",
    "2. The role - e.g. \"Elliott\"\n",
    "\n",
    "**Note: All solution notebooks can be found by clicking on the Jupyter icon on the top left of this workspace.**"
   ]
  },
  {
   "cell_type": "markdown",
   "metadata": {},
   "source": [
    "### Step 1: Get text from the movie web page\n",
    "You can use the `requests` library to do this.\n",
    "\n",
    "Outputting all the javascript, CSS, and text may overload the space available to load this notebook, so we omit a print statement here."
   ]
  },
  {
   "cell_type": "code",
   "execution_count": 1,
   "metadata": {},
   "outputs": [],
   "source": [
    "# import statements\n",
    "\n",
    "import requests\n",
    "from bs4 import BeautifulSoup"
   ]
  },
  {
   "cell_type": "code",
   "execution_count": null,
   "metadata": {},
   "outputs": [],
   "source": [
    "# fetch web page\n",
    "r = requests.get(\"https://www.rottentomatoes.com/m/et_the_extraterrestrial\")\n",
    "r.text"
   ]
  },
  {
   "cell_type": "markdown",
   "metadata": {},
   "source": [
    "### Step 2: Use BeautifulSoup to remove HTML tags\n",
    "Use `\"lxml\"` rather than `\"html5lib\"`.\n",
    "\n",
    "Again, printing this entire result may overload the space available to load this notebook, so we omit a print statement here."
   ]
  },
  {
   "cell_type": "code",
   "execution_count": null,
   "metadata": {},
   "outputs": [],
   "source": [
    "soup = BeautifulSoup(r.text, \"lxml\")\n",
    "soup.get_text()"
   ]
  },
  {
   "cell_type": "markdown",
   "metadata": {},
   "source": [
    "### Step 3: Find all cast crew members\n",
    "Use the BeautifulSoup's `find_all` method to select based on tag type and class name. Just like in the video, you can right click on the item, and click \"Inspect\" to view its html on a web page.\n",
    "\n",
    "Hint: using \"class\" may not give you the all the information, you can try something else other than \"class\"."
   ]
  },
  {
   "cell_type": "code",
   "execution_count": 4,
   "metadata": {},
   "outputs": [
    {
     "name": "stdout",
     "output_type": "stream",
     "text": [
      "Number of people in the cast crew: 20\n"
     ]
    }
   ],
   "source": [
    "# Find all cast crew summaries\n",
    "crew = soup.find_all('div', {'data-qa':'cast-crew-item'})\n",
    "print('Number of people in the cast crew:', len(crew))"
   ]
  },
  {
   "cell_type": "markdown",
   "metadata": {},
   "source": [
    "### Step 4: Inspect the first crew member to find tags for the memeber's name and role\n",
    "Tip: `.prettify()` is a super helpful method BeautifulSoup provides to output html in a nicely indented form! Make sure to use `print()` to ensure whitespace is displayed properly."
   ]
  },
  {
   "cell_type": "code",
   "execution_count": 5,
   "metadata": {},
   "outputs": [
    {
     "name": "stdout",
     "output_type": "stream",
     "text": [
      "<div class=\"cast-item media inlineBlock\" data-qa=\"cast-crew-item\">\n",
      " <div class=\"pull-left\">\n",
      "  <a data-qa=\"cast-crew-item-img-link\" href=\"/celebrity/henry_thomas\">\n",
      "   <img alt=\"Henry Thomas\" class=\"actorThumb medium media-object\" loading=\"lazy\" src=\"https://resizing.flixster.com/GhyR_iN5J4GUC1E8tdall2__Klc=/100x120/v2/https://flxt.tmsimg.com/assets/26487_v9_bb.jpg\"/>\n",
      "  </a>\n",
      " </div>\n",
      " <div class=\"media-body\">\n",
      "  <a class=\"unstyled articleLink\" data-qa=\"cast-crew-item-link\" href=\" /celebrity/henry_thomas \">\n",
      "   <span title=\"Henry Thomas\">\n",
      "    Henry Thomas\n",
      "   </span>\n",
      "  </a>\n",
      "  <span class=\"characters subtle smaller\" title=\"Henry Thomas\">\n",
      "   <br/>\n",
      "   Elliott\n",
      "   <br/>\n",
      "  </span>\n",
      " </div>\n",
      "</div>\n",
      "\n"
     ]
    }
   ],
   "source": [
    "# print the first summary in crew\n",
    "print(crew[0].prettify())"
   ]
  },
  {
   "cell_type": "markdown",
   "metadata": {},
   "source": [
    "Look for tags that contain the actor/actress's name and the role that you want to extract. Then, use the `find_all` method on the crew object to pull out the html with those tags. Afterwards, don't forget to do some extra cleaning to isolate the names (get rid of unnecessary html), as you saw in the last video."
   ]
  },
  {
   "cell_type": "code",
   "execution_count": 6,
   "metadata": {},
   "outputs": [
    {
     "data": {
      "text/plain": [
       "'Henry Thomas'"
      ]
     },
     "execution_count": 6,
     "metadata": {},
     "output_type": "execute_result"
    }
   ],
   "source": [
    "# Extract name\n",
    "crew[0].find_all('span')[0].get_text().strip()"
   ]
  },
  {
   "cell_type": "code",
   "execution_count": 7,
   "metadata": {},
   "outputs": [
    {
     "data": {
      "text/plain": [
       "'Elliott'"
      ]
     },
     "execution_count": 7,
     "metadata": {},
     "output_type": "execute_result"
    }
   ],
   "source": [
    "# Extract role\n",
    "crew[0].find_all('span')[1].get_text().strip()"
   ]
  },
  {
   "cell_type": "markdown",
   "metadata": {},
   "source": [
    "### Step 5: Collect names and roles of ALL memeber listings\n",
    "Reuse your code from the previous step, but now in a loop to extract the name and role from every crew summary in `crew`!"
   ]
  },
  {
   "cell_type": "code",
   "execution_count": 8,
   "metadata": {},
   "outputs": [],
   "source": [
    "name_role = []\n",
    "for summary in crew:\n",
    "    # append name and role of each summary to name_role list\n",
    "    name = summary.find_all('span')[0].get_text().strip()\n",
    "    role = summary.find_all('span')[1].get_text().strip()\n",
    "    name_role.append((name, role))"
   ]
  },
  {
   "cell_type": "code",
   "execution_count": 9,
   "metadata": {},
   "outputs": [
    {
     "name": "stdout",
     "output_type": "stream",
     "text": [
      "20  actors found in cast crew. Sample:\n"
     ]
    },
    {
     "data": {
      "text/plain": [
       "[('Henry Thomas', 'Elliott'),\n",
       " ('Dee Wallace', 'Mary'),\n",
       " ('Peter Coyote', 'Keys'),\n",
       " ('Drew Barrymore', 'Gertie'),\n",
       " ('C. Thomas Howell', 'Tyler')]"
      ]
     },
     "execution_count": 9,
     "metadata": {},
     "output_type": "execute_result"
    }
   ],
   "source": [
    "# display results\n",
    "print(len(name_role), \" actors found in cast crew. Sample:\")\n",
    "name_role[:5]"
   ]
  }
 ],
 "metadata": {
  "kernelspec": {
   "display_name": "Python 3.8.15 ('data_sci_env')",
   "language": "python",
   "name": "python3"
  },
  "language_info": {
   "codemirror_mode": {
    "name": "ipython",
    "version": 3
   },
   "file_extension": ".py",
   "mimetype": "text/x-python",
   "name": "python",
   "nbconvert_exporter": "python",
   "pygments_lexer": "ipython3",
   "version": "3.8.15"
  },
  "vscode": {
   "interpreter": {
    "hash": "107006bfa038b673fc600fac7cf34051d397bfb14e7ca73078275878ce86dc80"
   }
  }
 },
 "nbformat": 4,
 "nbformat_minor": 2
}
